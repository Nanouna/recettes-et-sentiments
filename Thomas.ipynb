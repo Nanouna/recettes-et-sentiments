{
 "cells": [
  {
   "cell_type": "code",
   "execution_count": 23,
   "id": "73d2fa98",
   "metadata": {},
   "outputs": [
    {
     "name": "stdout",
     "output_type": "stream",
     "text": [
      "The autoreload extension is already loaded. To reload it, use:\n",
      "  %reload_ext autoreload\n"
     ]
    }
   ],
   "source": [
    "%load_ext autoreload\n",
    "%autoreload 2\n",
    "\n",
    "import pandas as pd\n",
    "import ast\n",
    "\n",
    "pd.set_option('display.max_rows', 100)\n",
    "pd.set_option('display.max_columns', 100)"
   ]
  },
  {
   "cell_type": "code",
   "execution_count": 19,
   "id": "b7f41c61ec12de82",
   "metadata": {
    "ExecuteTime": {
     "end_time": "2024-06-03T12:40:33.413328Z",
     "start_time": "2024-06-03T12:40:33.409738Z"
    }
   },
   "outputs": [],
   "source": [
    "from api_model import data, preprocessing\n"
   ]
  },
  {
   "cell_type": "code",
   "execution_count": 6,
   "id": "efba85c8-8348-4f70-9e5d-bd6c1fa4345c",
   "metadata": {},
   "outputs": [
    {
     "data": {
      "text/plain": [
       "'pong'"
      ]
     },
     "execution_count": 6,
     "metadata": {},
     "output_type": "execute_result"
    }
   ],
   "source": [
    "preprocessing.ping()\n"
   ]
  },
  {
   "cell_type": "code",
   "execution_count": 20,
   "id": "initial_id",
   "metadata": {
    "ExecuteTime": {
     "end_time": "2024-06-03T12:37:54.267612Z",
     "start_time": "2024-06-03T12:37:48.713863Z"
    }
   },
   "outputs": [],
   "source": [
    "my_data = data.load_data(\"../../batch-1672-recettes-et-sentiments-data/RAW_recipes.csv\")\n"
   ]
  },
  {
   "cell_type": "code",
   "execution_count": 21,
   "id": "680d0dd2-dcce-4e04-bcbb-1a46701da53d",
   "metadata": {},
   "outputs": [],
   "source": [
    "df = preprocessing.add_columns_and_merge_text(my_data)"
   ]
  },
  {
   "cell_type": "code",
   "execution_count": 26,
   "id": "aa7f7e7c-9a21-487c-a52d-46c2d8a41045",
   "metadata": {},
   "outputs": [
    {
     "name": "stdout",
     "output_type": "stream",
     "text": [
      "                                              name  minutes  contributor_id  \\\n",
      "id                                                                            \n",
      "137739  arriba   baked winter squash mexican style       55           47892   \n",
      "31490             a bit different  breakfast pizza       30           26278   \n",
      "112140                   all in the kitchen  chili      130          196586   \n",
      "59389                           alouette  potatoes       45           68585   \n",
      "44061           amish  tomato ketchup  for canning      190           41706   \n",
      "\n",
      "        submitted                                               tags  \\\n",
      "id                                                                     \n",
      "137739 2005-09-16  [60-minutes-or-less, time-to-make, course, mai...   \n",
      "31490  2002-06-17  [30-minutes-or-less, time-to-make, course, mai...   \n",
      "112140 2005-02-25  [time-to-make, course, preparation, main-dish,...   \n",
      "59389  2003-04-14  [60-minutes-or-less, time-to-make, course, mai...   \n",
      "44061  2002-10-25  [weeknight, time-to-make, course, main-ingredi...   \n",
      "\n",
      "                                         nutrition  n_steps  \\\n",
      "id                                                            \n",
      "137739       [51.5, 0.0, 13.0, 0.0, 2.0, 0.0, 4.0]       11   \n",
      "31490    [173.4, 18.0, 0.0, 17.0, 22.0, 35.0, 1.0]        9   \n",
      "112140  [269.8, 22.0, 32.0, 48.0, 39.0, 27.0, 5.0]        6   \n",
      "59389    [368.1, 17.0, 10.0, 2.0, 14.0, 8.0, 20.0]       11   \n",
      "44061    [352.9, 1.0, 337.0, 23.0, 3.0, 0.0, 28.0]        5   \n",
      "\n",
      "                                                    steps  \\\n",
      "id                                                          \n",
      "137739  [make a choice and proceed with recipe, depend...   \n",
      "31490   [preheat oven to 425 degrees f, press dough in...   \n",
      "112140  [brown ground beef in large pot, add chopped o...   \n",
      "59389   [place potatoes in a large pot of lightly salt...   \n",
      "44061   [mix all ingredients& boil for 2 1 / 2 hours ,...   \n",
      "\n",
      "                                              description  \\\n",
      "id                                                          \n",
      "137739  autumn is my favorite time of year to cook! th...   \n",
      "31490   this recipe calls for the crust to be prebaked...   \n",
      "112140  this modified version of 'mom's' chili was a h...   \n",
      "59389   this is a super easy, great tasting, make ahea...   \n",
      "44061   my dh's amish mother raised him on this recipe...   \n",
      "\n",
      "                                              ingredients  n_ingredients  \\\n",
      "id                                                                         \n",
      "137739  [winter squash, mexican seasoning, mixed spice...              7   \n",
      "31490   [prepared pizza crust, sausage patty, eggs, mi...              6   \n",
      "112140  [ground beef, yellow onions, diced tomatoes, t...             13   \n",
      "59389   [spreadable cheese with garlic and herbs, new ...             11   \n",
      "44061   [tomato juice, apple cider vinegar, sugar, sal...              8   \n",
      "\n",
      "        calories  total_fat_pdv  sugar_pdv  sodium_pdv  protein_pdv  \\\n",
      "id                                                                    \n",
      "137739      51.5            0.0       13.0         0.0          2.0   \n",
      "31490      173.4           18.0        0.0        17.0         22.0   \n",
      "112140     269.8           22.0       32.0        48.0         39.0   \n",
      "59389      368.1           17.0       10.0         2.0         14.0   \n",
      "44061      352.9            1.0      337.0        23.0          3.0   \n",
      "\n",
      "        saturated_fat_pdv  carbohydrates_pdv  \\\n",
      "id                                             \n",
      "137739                0.0                4.0   \n",
      "31490                35.0                1.0   \n",
      "112140               27.0                5.0   \n",
      "59389                 8.0               20.0   \n",
      "44061                 0.0               28.0   \n",
      "\n",
      "                                             merged_steps  merged_steps_length  \n",
      "id                                                                              \n",
      "137739  make a choice and proceed with recipe\\ndependi...                  697  \n",
      "31490   preheat oven to 425 degrees f\\npress dough int...                  386  \n",
      "112140  brown ground beef in large pot\\nadd chopped on...                  293  \n",
      "59389   place potatoes in a large pot of lightly salte...                  543  \n",
      "44061   mix all ingredients& boil for 2 1 / 2 hours , ...                  289  \n"
     ]
    }
   ],
   "source": [
    "print(df.head())"
   ]
  },
  {
   "cell_type": "code",
   "execution_count": 27,
   "id": "a51f39027dde7fc8",
   "metadata": {},
   "outputs": [
    {
     "name": "stdout",
     "output_type": "stream",
     "text": [
      "make a choice and proceed with recipe\n",
      "depending on size of squash , cut into half or fourths\n",
      "remove seeds\n",
      "for spicy squash , drizzle olive oil or melted butter over each cut squash piece\n",
      "season with mexican seasoning mix ii\n",
      "for sweet squash , drizzle melted honey , butter , grated piloncillo over each cut squash piece\n",
      "season with sweet mexican spice mix\n",
      "bake at 350 degrees , again depending on size , for 40 minutes up to an hour , until a fork can easily pierce the skin\n",
      "be careful not to burn the squash especially if you opt to use sugar or butter\n",
      "if you feel more comfortable , cover the squash with aluminum foil the first half hour , give or take , of baking\n",
      "if desired , season with salt\n"
     ]
    }
   ],
   "source": [
    "print(df['merged_steps'].iloc[0])"
   ]
  },
  {
   "cell_type": "code",
   "execution_count": null,
   "id": "9d535073",
   "metadata": {},
   "outputs": [],
   "source": []
  }
 ],
 "metadata": {
  "kernelspec": {
   "display_name": "Python 3 (ipykernel)",
   "language": "python",
   "name": "python3"
  },
  "language_info": {
   "codemirror_mode": {
    "name": "ipython",
    "version": 3
   },
   "file_extension": ".py",
   "mimetype": "text/x-python",
   "name": "python",
   "nbconvert_exporter": "python",
   "pygments_lexer": "ipython3",
   "version": "3.10.6"
  },
  "toc": {
   "base_numbering": 1,
   "nav_menu": {},
   "number_sections": true,
   "sideBar": true,
   "skip_h1_title": false,
   "title_cell": "Table of Contents",
   "title_sidebar": "Contents",
   "toc_cell": false,
   "toc_position": {},
   "toc_section_display": true,
   "toc_window_display": false
  }
 },
 "nbformat": 4,
 "nbformat_minor": 5
}
